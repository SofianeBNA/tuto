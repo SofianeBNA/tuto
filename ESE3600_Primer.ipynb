{
  "nbformat": 4,
  "nbformat_minor": 0,
  "metadata": {
    "colab": {
      "provenance": [],
      "collapsed_sections": [
        "a8Wc1lNJMsnL",
        "6kHqJaCXM2BB",
        "Y5GfT8ClM6Ro",
        "Of7vrV-dNEvK",
        "elawLDLgNVXA",
        "Oj77OsViNbGS",
        "e5MicoagNjoJ",
        "xfjNGqW1NxC9",
        "7NLWu79PN27f",
        "N12tC-Hr0w0Q",
        "Axk3bWkW0w4n",
        "G_TgoQ8I1KI9",
        "UpjZvWD_GMKx",
        "5pwoEytgK8jH",
        "4w-GmAvjLn1I",
        "nZs4sey7LuP_",
        "Z4o_e1CKL6AB",
        "oye7edvDNIE8"
      ]
    },
    "kernelspec": {
      "name": "python3",
      "display_name": "Python 3"
    },
    "language_info": {
      "name": "python"
    }
  },
  "cells": [
    {
      "cell_type": "markdown",
      "source": [
        "---\n",
        "\n",
        "\n",
        "Before starting, you must click on the \"Copy To Drive\" option in the top bar. Go to File --> Save a Copy to Drive. <ins>This is the master notebook so you will not be able to save your changes without copying it !</ins> Once you click on that, make sure you are working on that version of the notebook so that your work is saved.\n",
        "\n",
        "\n",
        "\n",
        "---"
      ],
      "metadata": {
        "id": "vp6-PthzqsQh"
      }
    },
    {
      "cell_type": "markdown",
      "source": [
        "# 1. Python Programming Language\n",
        "\n"
      ],
      "metadata": {
        "id": "mee3LpcyBzP2"
      }
    },
    {
      "cell_type": "markdown",
      "source": [
        "## **About Python**\n",
        "\n",
        "Python is a programming language that is very popular among the machine learning research community.\n",
        "It is a high-level programming language and has an extensive collection of libraries that can be easily installed.\n",
        "We require that you use python for the first section of the class, so it is important to be familiar with it."
      ],
      "metadata": {
        "id": "o8ngw_D2FO-L"
      }
    },
    {
      "cell_type": "markdown",
      "source": [
        "## **Some key features of Python**\n",
        "- Python is not compiled: you directly run the Python file\n",
        "- Python is dynamically typed (i.e., the types of the variables can change), and you do not declare types in Python\n",
        "\n",
        "```\n",
        "# This works in python\n",
        "x = 3\n",
        "x = \"python\"\n",
        "```\n",
        "\n",
        "- Python does not use parentheses. Instead, it uses whitespace to infer the scope of methods, for loops, etc.\n",
        "\n",
        "```\n",
        "for i in range(10):\n",
        "      print(i * 2)      # Indent by 4 spaces\n",
        "      print(i * 4)\n",
        "print('Done')       # No indent, runs after for loop\n",
        "```\n",
        "\n",
        "\n",
        "- Functions cannot be overloaded, instead use optional arguments\n",
        "\n",
        "```\n",
        "def f(x, y=0.0):\n",
        "      ....\n",
        "f(8)\n",
        "f(8, 2)\n",
        "```\n",
        "\n",
        "- Boolean values are `True` and `False`\n",
        "- Python uses hard brackets `[]` for indexing arrays and matrices\n",
        "- Python is 0-indexed, so the first item in a list is at index 0, not 1"
      ],
      "metadata": {
        "id": "oIybg41uEEtp"
      }
    },
    {
      "cell_type": "markdown",
      "source": [
        "\n",
        "## **Development Environments**\n",
        "- In the first section of the class we will use Google Colaboratory, which is one of many ways you can write python code. Colab is useful as an easy way to write interactive Python without having to install anything on your machine.\n",
        "\n",
        "- Other options include:\n",
        ">- Jupyter Notebooks: http://jupyter.org/install, and https://www.anaconda.com/download/ for the popular Anaconda distribution\n",
        "  - Text editors: Atom, Sublime, Visual Studio Code\n",
        "  - PyCharm: https://www.jetbrains.com/pycharm/"
      ],
      "metadata": {
        "id": "oFHXkq1IGGgJ"
      }
    },
    {
      "cell_type": "markdown",
      "source": [
        "# 2. Introduction to Google Colaboratory\n",
        "\n",
        "<p><img alt=\"Colaboratory logo\" height=\"45px\" src=\"/img/colab_favicon.ico\" align=\"left\" hspace=\"10px\" vspace=\"0px\"></p>\n",
        "\n",
        "<h1>What is Colaboratory?</h1>\n",
        "\n",
        "Colaboratory, or 'Colab' for short, allows you to write and execute Python in your browser, with\n",
        "- Zero configuration required\n",
        "- Free access to GPUs\n",
        "- Easy sharing\n",
        "\n",
        "Whether you're a <strong>student</strong>, a <strong>data scientist</strong> or an <strong>AI researcher</strong>, Colab can make your work easier. Watch <a href=\"https://www.youtube.com/watch?v=inN8seMm7UI\">Introduction to Colab</a> to find out more, or just get started below!"
      ],
      "metadata": {
        "id": "EqHhMGVWGmA_"
      }
    },
    {
      "cell_type": "markdown",
      "source": [
        "## <strong>Getting started</strong>\n",
        "\n",
        "The document that you are reading is not a static web page, but an interactive environment called a <strong>Colab notebook</strong> that lets you write and execute code.\n",
        "\n",
        "For example, here is a <strong>code cell</strong> with a short Python script that computes a value, stores it in a variable and prints the result.  Note that you can import many common packages, including some packages that would otherwise have to be pip-installed, directly into Colab."
      ],
      "metadata": {
        "id": "Vncei6LPGt1W"
      }
    },
    {
      "cell_type": "code",
      "execution_count": 1,
      "metadata": {
        "id": "2FUOpQpXi2hQ",
        "outputId": "51870185-5d04-4cef-eed4-a37d4af31a74",
        "colab": {
          "base_uri": "https://localhost:8080/"
        }
      },
      "outputs": [
        {
          "output_type": "stream",
          "name": "stdout",
          "text": [
            "The mean of xs is: 4.5\n"
          ]
        }
      ],
      "source": [
        "import numpy as np\n",
        "\n",
        "xs = range(10)  # values from 0 - 9\n",
        "\n",
        "mean_val = np.mean(xs)\n",
        "print(\"The mean of xs is:\", mean_val)"
      ]
    },
    {
      "cell_type": "markdown",
      "source": [
        "To execute the code in the above cell, select it with a click and then either press the play button to the left of the code, or use the keyboard shortcut 'Command/Ctrl+Enter'. To edit the code, just click the cell and start editing.\n",
        "\n",
        "Variables that you define in one cell can later be used in other cells:"
      ],
      "metadata": {
        "id": "y2kiDKLbHTkg"
      }
    },
    {
      "cell_type": "code",
      "source": [
        "seconds_in_a_day = 86400"
      ],
      "metadata": {
        "id": "f_Vo6gA2G_iM"
      },
      "execution_count": 3,
      "outputs": []
    },
    {
      "cell_type": "code",
      "source": [
        "seconds_in_a_week = 7 * seconds_in_a_day\n",
        "print(\"The seconds in a week:\", seconds_in_a_week)"
      ],
      "metadata": {
        "id": "3WVOQUyhHbT_",
        "outputId": "50c8bee7-5b5e-4c2e-fa2d-3d1d746003c4",
        "colab": {
          "base_uri": "https://localhost:8080/"
        }
      },
      "execution_count": 4,
      "outputs": [
        {
          "output_type": "stream",
          "name": "stdout",
          "text": [
            "The seconds in a week: 604800\n"
          ]
        }
      ]
    },
    {
      "cell_type": "markdown",
      "source": [
        "Colab notebooks allow you to combine <strong>executable code</strong> and <strong>rich text</strong> in a single document, along with <strong>images</strong>, <strong>HTML</strong>, <strong>LaTeX</strong> and more.\n",
        "\n",
        "![picture](https://drive.google.com/uc?export=view&id=1P-LDQOzPtnMr6O5rnp-q9fZTRFdJo3UJ)\n",
        "\n",
        "\n",
        "\n"
      ],
      "metadata": {
        "id": "FckH-Ha4JgbD"
      }
    },
    {
      "cell_type": "markdown",
      "source": [
        "When you create your own Colab notebooks, they are stored in your Google Drive account under a **Colab Notebooks/** directory. You can easily share your Colab notebooks with co-workers or friends, allowing them to comment on your notebooks or even edit them. To find out more, see <a href=\"/notebooks/basic_features_overview.ipynb\">Overview of Colab</a>. To create a new Colab notebook you can use the File menu above, or use the following link: <a href=\"http://colab.research.google.com#create=true\">Create a new Colab notebook</a>."
      ],
      "metadata": {
        "id": "KwUbxk9ps44W"
      }
    },
    {
      "cell_type": "markdown",
      "source": [
        "## **Data science**\n",
        "\n",
        "With Colab you can harness the full power of popular Python libraries to analyse and visualise data. The code cell below uses <strong>numpy</strong> to generate some random data, and uses <strong>matplotlib</strong> to visualise it. To edit the code, just click the cell and start editing.\n",
        "\n",
        "Numpy and Maplotlib librares are explained more in detail under the section <a href=\"#useful-packages\">Useful Packages</a>."
      ],
      "metadata": {
        "id": "1g2cT2c9J2uA"
      }
    },
    {
      "cell_type": "code",
      "source": [
        "import numpy as np\n",
        "from matplotlib import pyplot as plt\n",
        "\n",
        "ys = 200 + np.random.randn(100)\n",
        "x = [x for x in range(len(ys))]\n",
        "\n",
        "plt.plot(x, ys, '-')\n",
        "plt.fill_between(x, ys, 195, where=(ys > 195), facecolor='g', alpha=0.6)\n",
        "\n",
        "plt.title(\"Sample Visualization\")\n",
        "plt.show()"
      ],
      "metadata": {
        "id": "KkSfUTC_Hp1x",
        "outputId": "c98add71-6dcb-4550-a1e8-5db9610a4b6d",
        "colab": {
          "base_uri": "https://localhost:8080/",
          "height": 452
        }
      },
      "execution_count": 5,
      "outputs": [
        {
          "output_type": "display_data",
          "data": {
            "text/plain": [
              "<Figure size 640x480 with 1 Axes>"
            ],
            "image/png": "[encoded data removed]"
          },
          "metadata": {}
        }
      ]
    },
    {
      "cell_type": "markdown",
      "source": [
        "You can import your own data into Colab notebooks from your Google Drive account, including from spreadsheets, as well as from GitHub and many other sources."
      ],
      "metadata": {
        "id": "WVvyj5t6KEcb"
      }
    },
    {
      "cell_type": "markdown",
      "source": [
        "## **Machine learning**\n",
        "\n",
        "\n",
        "Have you ever wanted an easy-to-configure interactive environment to run your machine learning code that came with access to GPUs for free? Google Colab is the answer you’ve been looking for. Colab notebooks execute code on Google's cloud servers, meaning you can leverage the power of Google hardware, including <a href=\"#using-accelerated-hardware\">GPUs and TPUs</a>, regardless of the power of your machine. All you need is a browser.\n",
        "\n",
        "Colab is used extensively in the machine learning community with applications including:\n",
        "- Getting started with TensorFlow\n",
        "- Developing and training neural networks\n",
        "- Experimenting with TPUs\n",
        "- Disseminating AI research\n",
        "- Creating tutorials\n",
        "\n",
        "\n",
        "Machine Learning Frameworks such as **[TensorFlow](https://www.tensorflow.org/)**, **[Keras](https://keras.io/)**, and **[PyTorch](https://pytorch.org/)** can be incorporated with Google Colab for easy designing, training and deployment of models. In this class, we will be using the TensorFlow and Keras frameworks.\n",
        "\n",
        "\n",
        "\\\n",
        "To see sample Colab notebooks that demonstrate machine learning applications, see the <a href=\"#machine-learning-examples\">machine learning examples</a> below."
      ],
      "metadata": {
        "id": "uzCE9SDnKHus"
      }
    },
    {
      "cell_type": "markdown",
      "source": [
        "# 3. Coding in Python"
      ],
      "metadata": {
        "id": "GmeJQcvUMLNL"
      }
    },
    {
      "cell_type": "markdown",
      "source": [
        "### **Basics**"
      ],
      "metadata": {
        "id": "a8Wc1lNJMsnL"
      }
    },
    {
      "cell_type": "code",
      "source": [
        "# Assigning variables\n",
        "x = 4.2\n",
        "y = 8\n",
        "s = 'hello'\n",
        "\n",
        "# The types of variables can change without a problem\n",
        "y = 'abc'\n",
        "\n",
        "# To display variables, use the print function\n",
        "print(y)\n",
        "\n",
        "# The \"null\" type is called `None`\n",
        "z = None\n",
        "print(z)\n",
        "\n",
        "print(z == None)\n",
        "\n",
        "# Casting\n",
        "s = '140'\n",
        "print(int(s))\n",
        "s = '140.243'\n",
        "print(float(s))\n",
        "x = 123\n",
        "print(str(x))"
      ],
      "metadata": {
        "id": "tosuUI-iMuXT"
      },
      "execution_count": null,
      "outputs": []
    },
    {
      "cell_type": "markdown",
      "source": [
        "### **String Manipulation**"
      ],
      "metadata": {
        "id": "6kHqJaCXM2BB"
      }
    },
    {
      "cell_type": "code",
      "source": [
        "s = \"ABCdef\"\n",
        "s = 'ABCdef'\n",
        "\n",
        "# Length\n",
        "print(len(s))  # 6\n",
        "\n",
        "# Standard Indexing: Notice hard brackets and 0-indexing\n",
        "print(s[0])      # 'A'\n",
        "print(s[1])      # 'B'\n",
        "print(s[5])      # 'f'\n",
        "# print(s[100])  # Error\n",
        "\n",
        "# Range Indexing\n",
        "print(s[1:4])    # 'BCd'\n",
        "print(s[2:])     # 'Cdef'\n",
        "print(s[:2])     # 'AB'\n",
        "print(s[1:100])  # 'BCdef'\n",
        "\n",
        "# Negative Indexing\n",
        "print(s[-1])    # 'f'\n",
        "print(s[-2])    # 'e'\n",
        "print(s[:-1])   # 'ABCde'\n",
        "print(s[:-3])   # 'ABC'\n",
        "print(s[::-1])  # 'fedCBA'\n",
        "\n",
        "# Concatenation\n",
        "print(s + 'xyz')     # 'ABCdefxyz'\n",
        "# print(s + 123)     # Error\n",
        "print(s + str(123))  # 'ABCdef123'\n",
        "\n",
        "# Splitting\n",
        "print(s.split('C'))  # ['AB', 'def']"
      ],
      "metadata": {
        "id": "co7g3-S7M4nh"
      },
      "execution_count": null,
      "outputs": []
    },
    {
      "cell_type": "markdown",
      "source": [
        "### **Lists**"
      ],
      "metadata": {
        "id": "Y5GfT8ClM6Ro"
      }
    },
    {
      "cell_type": "code",
      "source": [
        "a = [0, 4, 2, 8, 9]  # Create a list with initial items\n",
        "b = []  # Create an empty list\n",
        "\n",
        "# Length\n",
        "print(len(a))  # 5\n",
        "\n",
        "# The same indexing operations on strings work for lists\n",
        "print(a[1])    # 4\n",
        "print(a[2:4])  # [2, 8]\n",
        "print(a[-2])   # 8\n",
        "\n",
        "# Sort the list\n",
        "print(sorted(a))                # [0, 2, 4, 8, 9] Creates a copy, does not modify the original list\n",
        "print(sorted(a, reverse=True))  # [9, 8, 4, 2, 0] Also a copy\n",
        "\n",
        "# Add items to the end of the list\n",
        "a.append(10)  # Returns nothing\n",
        "print(a)      # [0, 4, 2, 8, 9, 10]\n",
        "a += [1, 12]  # Returns nothing\n",
        "print(a)      # [0, 4, 2, 8, 9, 10, 1, 12]\n",
        "\n",
        "# Lists don't have to be the same type in python\n",
        "a.append('machine learning')\n",
        "print(a)            # [0, 4, 2, 8, 9, 10, 1, 12, 'machine learning']\n",
        "# print(sorted(a))  # Causes an error\n",
        "\n",
        "# Searching\n",
        "print(8 in a)    # True\n",
        "print(100 in a)  # False"
      ],
      "metadata": {
        "id": "uUTjHks0M7U1"
      },
      "execution_count": null,
      "outputs": []
    },
    {
      "cell_type": "markdown",
      "source": [
        "### **Dictionaries**\n",
        "\n",
        "https://developers.google.com/edu/python/dict-files"
      ],
      "metadata": {
        "id": "Of7vrV-dNEvK"
      }
    },
    {
      "cell_type": "code",
      "source": [
        "d = {}       # Create an empty dictionary, which is a key-value map\n",
        "d['a'] = 97  # Add an item to the dictionary\n",
        "print(d)     # {'a': 97}\n",
        "print(d['a'])\n",
        "\n",
        "d['c'] = 99\n",
        "d[0] = [0, 1, 2]  # Keys and values don't need to be the same type\n",
        "print(d)          # {'a': 97, 'c': 99, 0: [0, 1, 2]}\n",
        "\n",
        "# Retrieve the keys and values of the dictionary.\n",
        "# These are not actually lists, but look like it. Call list(d.keys()) to actually convert it to a list\n",
        "keys = d.keys()      # Retrieve a list of the keys of the dictionary, not necessarily in any order\n",
        "values = d.values()  # Retrieve a list of the values of the dictionary, not necessarily in any order\n",
        "print(keys)          # ['a', 'c', 0]\n",
        "print(values)        # [97, 99, [0, 1, 2]]\n",
        "\n",
        "# Check to see if items are in the dictionary (checks keys)\n",
        "print('a' in d)  # True\n",
        "print('x' in d)  # False\n",
        "\n",
        "# Remove an item from the list\n",
        "del d['a']    # Returns nothing, modifies inplace\n",
        "# del d['y']  # Error"
      ],
      "metadata": {
        "id": "dSxI0h7gNJNI"
      },
      "execution_count": null,
      "outputs": []
    },
    {
      "cell_type": "markdown",
      "source": [
        "### **If Statements**"
      ],
      "metadata": {
        "id": "elawLDLgNVXA"
      }
    },
    {
      "cell_type": "code",
      "source": [
        "# Python doesn't require parenthese\n",
        "a, b = 7, 10\n",
        "\n",
        "# equality\n",
        "if a == 7:\n",
        "    print('yes')\n",
        "else:\n",
        "    print('no')\n",
        "\n",
        "# not equal\n",
        "if a != 8:\n",
        "    print('neq')\n",
        "\n",
        "# and\n",
        "if a > 5 and b <= 10:\n",
        "    print('1')\n",
        "elif a > 10:\n",
        "    print('2')\n",
        "else:\n",
        "    print('3')\n",
        "\n",
        "# or\n",
        "if a < 10 or b > 100:\n",
        "    print('yes')\n",
        "\n",
        "# Strings also use '=='\n",
        "s = 'abc'\n",
        "if s == 'abc':\n",
        "    print('here')"
      ],
      "metadata": {
        "id": "1R4tq6fSNYJv"
      },
      "execution_count": null,
      "outputs": []
    },
    {
      "cell_type": "markdown",
      "source": [
        "### **For Loops**"
      ],
      "metadata": {
        "id": "Oj77OsViNbGS"
      }
    },
    {
      "cell_type": "code",
      "source": [
        "a = [0, 8, 3, 5, 1]\n",
        "\n",
        "range(5)     # Dynamically generates 0, 1, 2, 3, 4\n",
        "range(1, 5)  # 1, 2, 3, 4\n",
        "\n",
        "# \"Standard\" for loop from Java\n",
        "for i in range(len(a)):\n",
        "    print(a[i])\n",
        "\n",
        "# Iterate over each element in the list\n",
        "for x in a:\n",
        "    print(x)\n",
        "\n",
        "# Iterating through dictionaries\n",
        "d = {0: 'a', 1: 'b', 2: 'c'}\n",
        "for key, value in d.items():\n",
        "    print(str(key) + ' -> ' + value)\n",
        "\n",
        "\n",
        "# Loop over items in an array and get the index at the same time\n",
        "for index, item in enumerate(a):\n",
        "  print(index, item)"
      ],
      "metadata": {
        "id": "c27vzANkNg2Z"
      },
      "execution_count": null,
      "outputs": []
    },
    {
      "cell_type": "markdown",
      "source": [
        "### **Functions**"
      ],
      "metadata": {
        "id": "e5MicoagNjoJ"
      }
    },
    {
      "cell_type": "code",
      "source": [
        "# No return type specification necessary\n",
        "def add(x, y):\n",
        "    return x + y\n",
        "\n",
        "def concat(list_1, list_2):\n",
        "    list_1 += list_2\n",
        "\n",
        "print(add(3, 4))        # 7\n",
        "# print(add(4, 8, 10))  # Error\n",
        "\n",
        "# Arguments can be passed by name\n",
        "print(add(y=8, x=2))  # 10\n",
        "\n",
        "a1 = [0, 1]\n",
        "a2 = [3, 5]\n",
        "concat(a1, a2)  # Returns nothing\n",
        "print(a1)       # [0, 1, 3, 5]\n",
        "\n",
        "# Methods can return more than one thing\n",
        "def two(a):\n",
        "  return a + 1, a + 2\n",
        "\n",
        "a3, a4 = two(1)\n",
        "print(a3)  # 2\n",
        "print(a4)  # 3\n",
        "\n",
        "t = two(1)\n",
        "print(t[0])\n",
        "print(t[1])"
      ],
      "metadata": {
        "id": "gW1cJdYhNsI0"
      },
      "execution_count": null,
      "outputs": []
    },
    {
      "cell_type": "markdown",
      "source": [
        "### **List and Dictionary Comprehension**"
      ],
      "metadata": {
        "id": "xfjNGqW1NxC9"
      }
    },
    {
      "cell_type": "code",
      "source": [
        "# Sometimes code can be simplified using list/dictionary comprehensions\n",
        "def add_one(x):\n",
        "  return x + 1\n",
        "\n",
        "# The standard way to apply a function to every element and save in y\n",
        "x = [0, 1, 2, 3]\n",
        "y = []\n",
        "for i in range(len(x)):\n",
        "  y.append(add_one(x[i]))\n",
        "\n",
        "# This is equivalent to the above\n",
        "y = [add_one(x_i) for x_i in x]\n",
        "\n",
        "# Add conditionals\n",
        "y2 = [add_one(x_i) for x_i in x if x_i > 1]\n",
        "\n",
        "# Dictionary comprehensions can be used to create dictionaries easily.\n",
        "# This creates a mapping from x_i -> x_i * 4\n",
        "d = {x_i : x_i * 4 for x_i in x}\n",
        "print(d)\n",
        "print(d[2])  # 8"
      ],
      "metadata": {
        "id": "JTWLkXYVN09W"
      },
      "execution_count": null,
      "outputs": []
    },
    {
      "cell_type": "markdown",
      "source": [
        "### **Classes**"
      ],
      "metadata": {
        "id": "7NLWu79PN27f"
      }
    },
    {
      "cell_type": "code",
      "source": [
        "class Person(object):\n",
        "    # This is the constructor. All instance methods of a class\n",
        "    # must accept `self` as the first parameter\n",
        "    # The self parameter is a reference to the current instance of the class, and is used to access variables that belongs to the class\n",
        "    # You use `self` to access data members and methods of the class\n",
        "\n",
        "    def __init__(self, name, age):\n",
        "        # This will call the super class's constructor; Optional if you inherit from `object`\n",
        "        super().__init__()\n",
        "\n",
        "        # Assign data members\n",
        "        self.name = name\n",
        "        self.age = age\n",
        "\n",
        "    def is_adult(self):\n",
        "        return self.age >= 18\n",
        "\n",
        "    def is_child(self):\n",
        "        # Other instance methods are called with the `self` keyword.\n",
        "        return not self.is_adult()\n",
        "\n",
        "    def increment_age(self, amount):\n",
        "        self.age += amount\n",
        "\n",
        "    # Test to see if two `Person` objects are equal\n",
        "    def __eq__(self, other):\n",
        "        return self.name == other.name and self.age == other.age"
      ],
      "metadata": {
        "id": "JWtrjx0y93Gv"
      },
      "execution_count": null,
      "outputs": []
    },
    {
      "cell_type": "code",
      "source": [
        "p = Person('Bob', 19)\n",
        "\n",
        "# Data members can be accessed directly\n",
        "print(p.name)  # 'Bob'\n",
        "print(p.age)   # 19\n",
        "\n",
        "# Even though all of the methods require a `self` argument, you ignore that argument\n",
        "# when calling the method\n",
        "print(p.is_adult())  # True\n",
        "\n",
        "p.increment_age(1)  # Returns nothing\n",
        "print(p.age)        # 20\n",
        "\n",
        "p2 = Person('Mary', 30)\n",
        "print(p == p2)  # False\n",
        "\n",
        "p3 = Person('Mary', 30)\n",
        "print(p2 == p3)  # True"
      ],
      "metadata": {
        "id": "LykkySIK-Uvy"
      },
      "execution_count": null,
      "outputs": []
    },
    {
      "cell_type": "markdown",
      "source": [
        "# 3. Useful Packages\n",
        "\n",
        "<a name=\"useful-packages\"></a>\n",
        "\n",
        "There are many packages that come with your python installation as well as many which can be downloaded easily. We will be primarily using the numpy and matplotlib packages.\n",
        "\n",
        "A library that comes with Colab by default can be imported using the `import` command.\n",
        "\n",
        "To import a library that's not in Colab by default, you can use the `!pip install` command"
      ],
      "metadata": {
        "id": "ZedsYVCj_cvT"
      }
    },
    {
      "cell_type": "markdown",
      "source": [
        "### **random**\n",
        "The `random` package provides tools for generating random numbers."
      ],
      "metadata": {
        "id": "N12tC-Hr0w0Q"
      }
    },
    {
      "cell_type": "code",
      "source": [
        "import random\n",
        "\n",
        "random.seed(4)\n",
        "\n",
        "print(random.randint(1, 5))  # A random integer in (1, 5)\n",
        "\n",
        "print(random.random())  # A random number in (0, 1.0]\n",
        "\n",
        "# Randomly shuffle a list\n",
        "a = [0, 1, 2, 3, 4, 5]\n",
        "random.shuffle(a)  # Shuffles in place - does not return a copy\n",
        "print(a)"
      ],
      "metadata": {
        "id": "8FWPkdD800hX"
      },
      "execution_count": null,
      "outputs": []
    },
    {
      "cell_type": "markdown",
      "source": [
        "### **numpy**\n",
        "`numpy` is a very useful matrix library for Python.\n",
        "It is used very frequently in machine learning, so it is good to be familiar with it.\n"
      ],
      "metadata": {
        "id": "Axk3bWkW0w4n"
      }
    },
    {
      "cell_type": "code",
      "source": [
        "# Imports can be aliased to simplify code\n",
        "import numpy as np  # The numpy library is now referenced with np\n",
        "\n",
        "# Create a vector of length 5 of all 0s\n",
        "v = np.zeros(5)\n",
        "print(v)\n",
        "\n",
        "print(v.shape)     # Returns a tuple of the dimensions: (5,)\n",
        "print(v.shape[0])  # Returns the size of the 0th dimension, 5\n",
        "\n",
        "# You can assign specific entries by their index into the vector\n",
        "v[0] = 1\n",
        "v[1] = 4\n",
        "\n",
        "# You can assign ranges of values\n",
        "v[2:5] = [5, 3, 6]\n",
        "print(v)\n",
        "\n",
        "# Create a random vector of values between 0 and 1\n",
        "np.random.seed(1)\n",
        "v1 = np.random.rand(5)\n",
        "print(v1)\n",
        "\n",
        "# Compute the dot product\n",
        "print(np.dot(v, v1))\n",
        "\n",
        "# Element-wise multiplication\n",
        "print(v * v1)\n",
        "print(np.multiply(v, v1))  # equivalent\n",
        "\n",
        "# Multiply the whole vector by a scalar, add a constant\n",
        "print(v * 5)\n",
        "print(v + 3)"
      ],
      "metadata": {
        "id": "0-vewE_M06q5"
      },
      "execution_count": null,
      "outputs": []
    },
    {
      "cell_type": "code",
      "source": [
        "# Matrices work much the same way (vectors are just matrices with 1 dimension)\n",
        "# `np.ones` creates a matrix of the given input size\n",
        "t = (3, 4)\n",
        "X = np.ones(t)\n",
        "print(X)\n",
        "print(X.shape)     # (3, 4)\n",
        "print(X.shape[0])  # 3\n",
        "print(X.shape[1])  # 4\n",
        "\n",
        "# Assigning specific entries requires 2 indices\n",
        "# The first is the row index, the second is the column index\n",
        "X[1, 3] = 8\n",
        "print(X)\n",
        "\n",
        "# The `:` selects the entire row or column\n",
        "row1 = X[1, :]\n",
        "print(row1)\n",
        "print(X[:, 2])\n",
        "\n",
        "# It can also be used to assign values\n",
        "X[1, :] = [1, 2, 3, 4]\n",
        "print(X)\n",
        "\n",
        "# Matrix multiplication\n",
        "Y = np.random.rand(4, 5)\n",
        "print(np.matmul(X, Y))  # A matrix of size (3, 5)\n",
        "\n",
        "# Transpose\n",
        "print(X.transpose())\n",
        "print(X.T)  # equivalent\n",
        "\n",
        "# You can create a matrix from a list (of lists)\n",
        "Z = np.asarray(\n",
        "    [\n",
        "        [0, 1, 2],\n",
        "        [3, 4, 5]\n",
        "    ])\n",
        "print(Z)"
      ],
      "metadata": {
        "id": "KMSfvqTA09pQ"
      },
      "execution_count": null,
      "outputs": []
    },
    {
      "cell_type": "code",
      "source": [
        "# Useful ways to initialize matrices\n",
        "A = np.zeros((5, 3))  # A 5x5 matrix of all 0s\n",
        "print(A)\n",
        "\n",
        "A = np.ones((5, 3))  # A 5x3 matrix of all 1s\n",
        "print(A)\n",
        "\n",
        "A = np.eye(5)  # I matrix of size 5x5\n",
        "print(A)\n",
        "\n",
        "A = np.random.rand(5, 3)  # A random matrix of size 5x3 with numbers between 0 and 1\n",
        "print(A)\n",
        "\n",
        "A = np.random.randint(1, 4, (5, 3)) # A random matrix of integers in (0, 4] of size 5x3\n",
        "print(A)"
      ],
      "metadata": {
        "id": "-wJR-QXS1G_4"
      },
      "execution_count": null,
      "outputs": []
    },
    {
      "cell_type": "markdown",
      "source": [
        "To know more about the methods and functions in `numpy`, visit the numpy User Guide: https://numpy.org/doc/stable/user/"
      ],
      "metadata": {
        "id": "ktbna8uz1KCR"
      }
    },
    {
      "cell_type": "markdown",
      "source": [
        "### **matplotlib**\n",
        "`matplotlib` is a very useful data visualization library for Python.\n",
        "It is also very frequently used in machine learning to visualize model loss during training, model predictions etc."
      ],
      "metadata": {
        "id": "G_TgoQ8I1KI9"
      }
    },
    {
      "cell_type": "markdown",
      "source": [
        "**Example 1**: Plotting both sine and cosine waves on the same plot."
      ],
      "metadata": {
        "id": "Kp7lFzGO_pt9"
      }
    },
    {
      "cell_type": "code",
      "source": [
        "# Imports can be aliased to simplify code\n",
        "import matplotlib.pyplot as plt  # The matplotlib.pyplot library is now referenced with plt\n",
        "\n",
        "# plotting sin and cos waves on the same plot\n",
        "x = np.linspace(0, 10, 100)   # x-axis\n",
        "\n",
        "fig = plt.figure()\n",
        "plt.plot(x, np.sin(x), '-')   # y-axis: sin(x)\n",
        "plt.plot(x, np.cos(x), '--')  # y-axis: cos(x)\n",
        "\n",
        "# adding axis labels\n",
        "plt.xlabel('x')\n",
        "plt.ylabel('sin(x)/cos(x)')\n",
        "\n",
        "# adding title and legend\n",
        "plt.title(\"Sine and Cosine curves\")\n",
        "plt.legend(['sin(x)', 'cos(x)'])"
      ],
      "metadata": {
        "id": "FHEU0EOT76r0"
      },
      "execution_count": null,
      "outputs": []
    },
    {
      "cell_type": "markdown",
      "source": [
        "**Example 2:** Plotting sine and cosine waves on different plots but one image - subplots."
      ],
      "metadata": {
        "id": "vmKUTdia_vkq"
      }
    },
    {
      "cell_type": "code",
      "source": [
        "# plotting sin and cos waves on different plots but one image\n",
        "x = np.linspace(0, 10, 100)   # x-axis\n",
        "\n",
        "fig, (ax1, ax2) = plt.subplots(1, 2, sharey=True)\n",
        "ax1.plot(x, np.sin(x), '-')   # y-axis: sin(x)\n",
        "ax2.plot(x, np.cos(x), '--')  # y-axis: cos(x)\n",
        "\n",
        "# adding axis labels\n",
        "ax1.set_xlabel('x')\n",
        "ax2.set_xlabel('x')\n",
        "\n",
        "ax1.set_ylabel('sin(x)')\n",
        "ax2.set_ylabel('cos(x)')\n",
        "\n",
        "\n",
        "# adding title\n",
        "ax1.set_title('Sine Wave')\n",
        "ax2.set_title('Cosine Wave')"
      ],
      "metadata": {
        "id": "5dT9a3UI_1M0"
      },
      "execution_count": null,
      "outputs": []
    },
    {
      "cell_type": "markdown",
      "source": [
        "**Example 3:** Scatter Plot - We plot the yield of apples and oranges (in tons per hectare) for 6 years ranging form 2010 to 2015."
      ],
      "metadata": {
        "id": "00cyHg9yBwrw"
      }
    },
    {
      "cell_type": "code",
      "source": [
        "# python list representing the years\n",
        "years = [2010, 2011, 2012, 2013, 2014, 2015]\n",
        "\n",
        "# python list representing yield (tons per hectare)\n",
        "yield_apples = [0.895, 0.91, 0.919, 0.926, 0.929, 0.931]\n",
        "yield_oranges = [0.962, 0.941, 0.930, 0.923, 0.918, 0.908]\n",
        "\n",
        "plt.scatter(years, yield_apples, marker='x', color='red')\n",
        "plt.scatter(years, yield_oranges, marker='o', color='orange')\n",
        "\n",
        "# adding axis labels\n",
        "plt.xlabel('years')\n",
        "plt.ylabel('yield (tons/hectare)')\n",
        "\n",
        "# adding title and legend\n",
        "plt.title(\"Yield of Apples and Oranges\")\n",
        "plt.legend(['apples', 'oranges'])"
      ],
      "metadata": {
        "id": "gl27LIXnBzvM"
      },
      "execution_count": null,
      "outputs": []
    },
    {
      "cell_type": "markdown",
      "source": [
        "**Example 4:** Display an Image - upload an image from your local system and display it."
      ],
      "metadata": {
        "id": "nV8qvG7xD3sP"
      }
    },
    {
      "cell_type": "code",
      "source": [
        "from google.colab import files\n",
        "\n",
        "uploaded = files.upload()"
      ],
      "metadata": {
        "id": "HtshZ44TEbHG"
      },
      "execution_count": null,
      "outputs": []
    },
    {
      "cell_type": "markdown",
      "source": [
        "Update the `image_name` variable to your uploaded file name."
      ],
      "metadata": {
        "id": "M2SQhuRcFLbs"
      }
    },
    {
      "cell_type": "code",
      "source": [
        "import matplotlib.image as mpimg\n",
        "\n",
        "image_name = ''  # Enter the name of the uploaded image\n",
        "\n",
        "img = mpimg.imread(image_name)\n",
        "imgplot = plt.imshow(img)\n",
        "plt.show()"
      ],
      "metadata": {
        "id": "0RAxQ2g7EJR0"
      },
      "execution_count": null,
      "outputs": []
    },
    {
      "cell_type": "markdown",
      "source": [
        "To know more about the `matplotlib` library, visit: https://matplotlib.org/"
      ],
      "metadata": {
        "id": "BwsmqzD-FU8Z"
      }
    },
    {
      "cell_type": "markdown",
      "source": [
        "# 4. TensorFlow Basics\n",
        "\n",
        "#### Copyright 2017 Google LLC.\n",
        "\n",
        "\n",
        "\n",
        "\n",
        "\n",
        "\n"
      ],
      "metadata": {
        "id": "LPEi4tg5_jf_"
      }
    },
    {
      "cell_type": "code",
      "source": [
        "# Licensed under the Apache License, Version 2.0 (the \"License\");\n",
        "# you may not use this file except in compliance with the License.\n",
        "# You may obtain a copy of the License at\n",
        "#\n",
        "# https://www.apache.org/licenses/LICENSE-2.0\n",
        "#\n",
        "# Unless required by applicable law or agreed to in writing, software\n",
        "# distributed under the License is distributed on an \"AS IS\" BASIS,\n",
        "# WITHOUT WARRANTIES OR CONDITIONS OF ANY KIND, either express or implied.\n",
        "# See the License for the specific language governing permissions and\n",
        "# limitations under the License."
      ],
      "metadata": {
        "id": "dAoQ6MtoGIpP"
      },
      "execution_count": null,
      "outputs": []
    },
    {
      "cell_type": "markdown",
      "source": [
        "### **TensorFlow Programming Concepts**\n",
        "\n",
        "**Learning Objectives:**\n",
        "  * Learn the basics of the TensorFlow programming model, focusing on the following concepts:\n",
        "    * tensors\n",
        "    * operations\n",
        "    * graphs\n",
        "    * sessions\n",
        ""
      ],
      "metadata": {
        "id": "UpjZvWD_GMKx"
      }
    },
    {
      "cell_type": "markdown",
      "source": [
        "**Overview of Concepts**\n",
        "\n",
        "TensorFlow gets its name from **tensors**, which are arrays of arbitrary dimensionality. Using TensorFlow, you can manipulate tensors with a very high number of dimensions. That said, most of the time you will work with one or more of the following low-dimensional tensors:\n",
        "\n",
        "  * A **scalar** is a 0-d array (a 0th-order tensor).  For example, `\"Howdy\"` or `5`\n",
        "  * A **vector** is a 1-d array (a 1st-order tensor).  For example, `[2, 3, 5, 7, 11]` or `[5]`\n",
        "  * A **matrix** is a 2-d array (a 2nd-order tensor).  For example, `[[3.1, 8.2, 5.9][4.3, -2.7, 6.5]]`\n",
        "\n",
        "TensorFlow **operations** create, destroy, and manipulate tensors.  Most of the lines of code in a typical TensorFlow program are operations.\n",
        "\n",
        "A TensorFlow **graph** (also known as a **computational graph** or a **dataflow graph**) is, yes, a graph data structure.  A graph's nodes are operations (in TensorFlow, every operation is associated with a graph).  Many TensorFlow programs consist of a single graph, but TensorFlow programs may optionally create multiple graphs. A graph's nodes are operations; a graph's edges are tensors. Tensors flow through the graph, manipulated at each node by an operation. The output tensor of one operation often becomes the input tensor to a subsequent operation. TensorFlow implements a **lazy execution model,** meaning that nodes are only computed when needed, based on the needs of associated nodes.\n",
        "\n",
        "Tensors can be stored in the graph as **constants** or **variables**. As you might guess, constants hold tensors whose values can't change, while variables hold tensors whose values can change. However, what you may not have guessed is that constants and variables are just more operations in the graph. A constant is an operation that always returns the same tensor value. A variable is an operation that will return whichever tensor has been assigned to it.\n",
        "\n"
      ],
      "metadata": {
        "id": "_AXvrwgSGiXa"
      }
    },
    {
      "cell_type": "markdown",
      "source": [
        "**Summary**\n",
        "\n",
        "TensorFlow programming is essentially a two-step process:\n",
        "\n",
        "  1. Assemble constants, variables, and operations into a graph.\n",
        "  2. Evaluate those constants, variables and operations within a session."
      ],
      "metadata": {
        "id": "phFQw49fG665"
      }
    },
    {
      "cell_type": "markdown",
      "source": [
        "# 4. Machine Learning with TensorFlow\n",
        "\n",
        "\n",
        "With Colab you can for example import an image dataset, train an image classifier on it, and evaluate the model, all in just a few lines of code.\n",
        "\n",
        "***Note:*** This section will be taught during the course (ESE360). Prior knowledge of this section is not required."
      ],
      "metadata": {
        "id": "fj1tZ9llIC02"
      }
    },
    {
      "cell_type": "markdown",
      "source": [
        "##### Copyright 2019 The TensorFlow Authors."
      ],
      "metadata": {
        "id": "BpcxaweyKn3a"
      }
    },
    {
      "cell_type": "code",
      "source": [
        "#@title Licensed under the Apache License, Version 2.0 (the \"License\");\n",
        "# you may not use this file except in compliance with the License.\n",
        "# You may obtain a copy of the License at\n",
        "#\n",
        "# https://www.apache.org/licenses/LICENSE-2.0\n",
        "#\n",
        "# Unless required by applicable law or agreed to in writing, software\n",
        "# distributed under the License is distributed on an \"AS IS\" BASIS,\n",
        "# WITHOUT WARRANTIES OR CONDITIONS OF ANY KIND, either express or implied.\n",
        "# See the License for the specific language governing permissions and\n",
        "# limitations under the License."
      ],
      "metadata": {
        "id": "IXYB1LhOKroL"
      },
      "execution_count": null,
      "outputs": []
    },
    {
      "cell_type": "markdown",
      "source": [
        "### **TensorFlow 2 quickstart for beginners**\n",
        "\n",
        "<table class=\"tfo-notebook-buttons\" align=\"left\">\n",
        "  <td>\n",
        "    <a target=\"_blank\" href=\"https://www.tensorflow.org/tutorials/quickstart/beginner\"><img src=\"https://www.tensorflow.org/images/tf_logo_32px.png\" />View on TensorFlow.org</a>\n",
        "  </td>\n",
        "  <td>\n",
        "    <a target=\"_blank\" href=\"https://colab.research.google.com/github/tensorflow/docs/blob/master/site/en/tutorials/quickstart/beginner.ipynb\"><img src=\"https://www.tensorflow.org/images/colab_logo_32px.png\" />Run in Google Colab</a>\n",
        "  </td>\n",
        "  <td>\n",
        "    <a target=\"_blank\" href=\"https://github.com/tensorflow/docs/blob/master/site/en/tutorials/quickstart/beginner.ipynb\"><img src=\"https://www.tensorflow.org/images/GitHub-Mark-32px.png\" />View source on GitHub</a>\n",
        "  </td>\n",
        "  <td>\n",
        "    <a href=\"https://storage.googleapis.com/tensorflow_docs/docs/site/en/tutorials/quickstart/beginner.ipynb\"><img src=\"https://www.tensorflow.org/images/download_logo_32px.png\" />Download notebook</a>\n",
        "  </td>\n",
        "</table>"
      ],
      "metadata": {
        "id": "5pwoEytgK8jH"
      }
    },
    {
      "cell_type": "markdown",
      "source": [
        "This short introduction uses [Keras](https://www.tensorflow.org/guide/keras/overview) to:\n",
        "\n",
        "1. Load a prebuilt dataset.\n",
        "1. Build a neural network machine learning model that classifies images.\n",
        "2. Train this neural network.\n",
        "3. Evaluate the accuracy of the model."
      ],
      "metadata": {
        "id": "3a07BUtuLI8W"
      }
    },
    {
      "cell_type": "markdown",
      "source": [
        "### Set up TensorFlow\n",
        "\n",
        "Import TensorFlow into your program to get started:"
      ],
      "metadata": {
        "id": "4w-GmAvjLn1I"
      }
    },
    {
      "cell_type": "code",
      "source": [
        "import tensorflow as tf\n",
        "print(\"TensorFlow version:\", tf.__version__)"
      ],
      "metadata": {
        "id": "cqjojmyjLsnf"
      },
      "execution_count": null,
      "outputs": []
    },
    {
      "cell_type": "markdown",
      "source": [
        "### Load a dataset\n",
        "\n",
        "Load and prepare the [MNIST dataset](http://yann.lecun.com/exdb/mnist/). Convert the sample data from integers to floating-point numbers:"
      ],
      "metadata": {
        "id": "nZs4sey7LuP_"
      }
    },
    {
      "cell_type": "code",
      "source": [
        "mnist = tf.keras.datasets.mnist\n",
        "\n",
        "(x_train, y_train), (x_test, y_test) = mnist.load_data()\n",
        "x_train, x_test = x_train / 255.0, x_test / 255.0"
      ],
      "metadata": {
        "id": "tDRJ6GAjL0Eo"
      },
      "execution_count": null,
      "outputs": []
    },
    {
      "cell_type": "markdown",
      "source": [
        "### Build a machine learning model\n",
        "\n",
        "Build a `tf.keras.Sequential` model by stacking layers."
      ],
      "metadata": {
        "id": "Z4o_e1CKL6AB"
      }
    },
    {
      "cell_type": "code",
      "source": [
        "model = tf.keras.models.Sequential([\n",
        "  tf.keras.layers.Flatten(input_shape=(28, 28)),\n",
        "  tf.keras.layers.Dense(128, activation='relu'),\n",
        "  tf.keras.layers.Dropout(0.2),\n",
        "  tf.keras.layers.Dense(10)\n",
        "])"
      ],
      "metadata": {
        "id": "9pwsxnuRL7Mu"
      },
      "execution_count": null,
      "outputs": []
    },
    {
      "cell_type": "markdown",
      "source": [
        "For each example, the model returns a vector of [logits](https://developers.google.com/machine-learning/glossary#logits) or [log-odds](https://developers.google.com/machine-learning/glossary#log-odds) scores, one for each class."
      ],
      "metadata": {
        "id": "kvoHxu2XMIVM"
      }
    },
    {
      "cell_type": "code",
      "source": [
        "predictions = model(x_train[:1]).numpy()\n",
        "print(predictions)"
      ],
      "metadata": {
        "id": "SOq8bouIMLBh"
      },
      "execution_count": null,
      "outputs": []
    },
    {
      "cell_type": "markdown",
      "source": [
        "The `tf.nn.softmax` function converts these logits to *probabilities* for each class. In this example however, we will define a loss function that directly takes in logits."
      ],
      "metadata": {
        "id": "TjWXxy8GMOia"
      }
    },
    {
      "cell_type": "code",
      "source": [
        "tf.nn.softmax(predictions).numpy()"
      ],
      "metadata": {
        "id": "mwY0-8g0MRuk"
      },
      "execution_count": null,
      "outputs": []
    },
    {
      "cell_type": "markdown",
      "source": [
        "***Note:*** We can also directly incorporate `tf.nn.softmax` when we define the model, by adding it as the activation in the final layer of the model!"
      ],
      "metadata": {
        "id": "F8T1q1deOZT8"
      }
    },
    {
      "cell_type": "markdown",
      "source": [
        "Define a loss function for training using `losses.SparseCategoricalCrossentropy`, which takes a vector of logits and a `True` index and returns a scalar loss for each example."
      ],
      "metadata": {
        "id": "8QgVT9lvMXM2"
      }
    },
    {
      "cell_type": "code",
      "source": [
        "loss_fn = tf.keras.losses.SparseCategoricalCrossentropy(from_logits=True)"
      ],
      "metadata": {
        "id": "ag0AqFdLM3Cq"
      },
      "execution_count": null,
      "outputs": []
    },
    {
      "cell_type": "markdown",
      "source": [
        "This loss is equal to the negative log probability of the true class: The loss is zero if the model is sure of the correct class.\n",
        "\n",
        "This untrained model gives probabilities close to random (1/10 for each class), so the initial loss should be close to `-tf.math.log(1/10) ~= 2.3`."
      ],
      "metadata": {
        "id": "amjAB4tyM61Z"
      }
    },
    {
      "cell_type": "code",
      "source": [
        "loss_fn(y_train[:1], predictions).numpy()"
      ],
      "metadata": {
        "id": "m3xz5VECM9w1"
      },
      "execution_count": null,
      "outputs": []
    },
    {
      "cell_type": "markdown",
      "source": [
        "Before you start training, configure and compile the model using Keras `Model.compile`. Set the [`optimizer`](https://www.tensorflow.org/api_docs/python/tf/keras/optimizers) class to `adam`, set the `loss` to the `loss_fn` function you defined earlier, and specify a metric to be evaluated for the model by setting the `metrics` parameter to `accuracy`."
      ],
      "metadata": {
        "id": "5feBdGw5NBAN"
      }
    },
    {
      "cell_type": "code",
      "source": [
        "model.compile(optimizer='adam',\n",
        "              loss=loss_fn,\n",
        "              metrics=['accuracy'])"
      ],
      "metadata": {
        "id": "DPvsTC6LNBpX"
      },
      "execution_count": null,
      "outputs": []
    },
    {
      "cell_type": "markdown",
      "source": [
        "### Train and evaluate your model\n",
        "\n",
        "\n",
        "Use the `Model.fit` method to adjust your model parameters and minimize the loss:"
      ],
      "metadata": {
        "id": "oye7edvDNIE8"
      }
    },
    {
      "cell_type": "code",
      "source": [
        "model.fit(x_train, y_train, epochs=5)"
      ],
      "metadata": {
        "id": "J6XaIxbyNL8X"
      },
      "execution_count": null,
      "outputs": []
    },
    {
      "cell_type": "markdown",
      "source": [
        "The `Model.evaluate` method checks the models performance, usually on a \"[Validation-set](https://developers.google.com/machine-learning/glossary#validation-set)\" or \"[Test-set](https://developers.google.com/machine-learning/glossary#test-set)\"."
      ],
      "metadata": {
        "id": "bAccerT1NXqP"
      }
    },
    {
      "cell_type": "code",
      "source": [
        "model.evaluate(x_test,  y_test, verbose=2)"
      ],
      "metadata": {
        "id": "2e7Dw8mCNaD1"
      },
      "execution_count": null,
      "outputs": []
    },
    {
      "cell_type": "markdown",
      "source": [
        "The image classifier is now trained to ~98% accuracy on this dataset. To learn more, read the [TensorFlow tutorials](https://www.tensorflow.org/tutorials/)."
      ],
      "metadata": {
        "id": "YYJ9_u6cNeXU"
      }
    },
    {
      "cell_type": "markdown",
      "source": [
        "If you want your model to return a probability, you can wrap the trained model, and attach the softmax to it:"
      ],
      "metadata": {
        "id": "eXw3lDqKNhd6"
      }
    },
    {
      "cell_type": "code",
      "source": [
        "probability_model = tf.keras.Sequential([\n",
        "  model,\n",
        "  tf.keras.layers.Softmax()\n",
        "])"
      ],
      "metadata": {
        "id": "YZn6_vxHNiYK"
      },
      "execution_count": null,
      "outputs": []
    },
    {
      "cell_type": "code",
      "source": [
        "probability_model(x_test[:5])"
      ],
      "metadata": {
        "id": "dgVqwdZsNl0m"
      },
      "execution_count": null,
      "outputs": []
    },
    {
      "cell_type": "markdown",
      "source": [
        "\n",
        "\n",
        "---\n",
        "\n"
      ],
      "metadata": {
        "id": "n83V2X0oRLYT"
      }
    },
    {
      "cell_type": "markdown",
      "source": [
        "# Additional Resources\n",
        "\n",
        "### Loading Data\n",
        "\n",
        "- [Image data loading](https://www.tensorflow.org/tutorials/load_data/images)\n",
        "- [CSV data loading](https://www.tensorflow.org/tutorials/load_data/csv).\n",
        "\n",
        "\\\n",
        "\n",
        "<a name=\"using-accelerated-hardware\"></a>\n",
        "### Using Accelerated Hardware\n",
        "- [TensorFlow with GPUs](/notebooks/gpu.ipynb)\n",
        "- [TensorFlow with TPUs](/notebooks/tpu.ipynb)\n",
        "\n",
        "\\\n",
        "\n",
        "\n",
        "<a name=\"machine-learning-examples\"></a>\n",
        "\n",
        "### Machine Learning Examples\n",
        "\n",
        "To see end-to-end examples of the interactive machine-learning analyses that Colaboratory makes possible, take a look at these tutorials using models from <a href=\"https://tfhub.dev\">TensorFlow Hub</a>.\n",
        "\n",
        "A few featured examples:\n",
        "\n",
        "- <a href=\"https://tensorflow.org/hub/tutorials/tf2_image_retraining\">Retraining an Image Classifier</a>: Build a Keras model on top of a pre-trained image classifier to distinguish flowers.\n",
        "- <a href=\"https://tensorflow.org/hub/tutorials/tf2_text_classification\">Text Classification</a>: Classify IMDB film reviews as either <em>positive</em> or <em>negative</em>.\n",
        "- <a href=\"https://tensorflow.org/hub/tutorials/tf2_arbitrary_image_stylization\">Style Transfer</a>: Use deep learning to transfer style between images.\n",
        "- <a href=\"https://tensorflow.org/hub/tutorials/retrieval_with_tf_hub_universal_encoder_qa\">Multilingual Universal Sentence Encoder Q&amp;A</a>: Use a machine-learning model to answer questions from the SQuAD dataset.\n",
        "- <a href=\"https://tensorflow.org/hub/tutorials/tweening_conv3d\">Video Interpolation</a>: Predict what happened in a video between the first and the last frame.\n",
        "\n"
      ],
      "metadata": {
        "id": "phsyeqHIRMJE"
      }
    }
  ]
}